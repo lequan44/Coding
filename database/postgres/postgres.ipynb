{
 "cells": [
  {
   "cell_type": "code",
   "execution_count": null,
   "id": "a3021330",
   "metadata": {},
   "outputs": [],
   "source": [
    "import psycopg2\n",
    "import pandas as pd\n",
    "from sqlalchemy import create_engine\n"
   ]
  },
  {
   "cell_type": "code",
   "execution_count": null,
   "id": "8f68cd56",
   "metadata": {},
   "outputs": [],
   "source": [
    "# Connect to database\n",
    "conn = psycopg2.connect(\n",
    "    dbname=\"postgres\",\n",
    "    user=\"postgres\",\n",
    "    password=\"postgres\",\n",
    "    host=\"localhost\",\n",
    "    port=\"5432\"  # default 5432\n",
    ")\n",
    "\n",
    "# Add cursor\n",
    "cur = conn.cursor()"
   ]
  },
  {
   "cell_type": "code",
   "execution_count": null,
   "id": "02476a89",
   "metadata": {},
   "outputs": [],
   "source": [
    "# Check connection\n",
    "cur.execute(\"SELECT 1;\")\n",
    "print(\"Connection successful:\", cur.fetchone()[0] == 1)"
   ]
  },
  {
   "cell_type": "markdown",
   "id": "68d18798",
   "metadata": {},
   "source": [
    "create table"
   ]
  },
  {
   "cell_type": "code",
   "execution_count": null,
   "id": "0c6eaaa8",
   "metadata": {},
   "outputs": [],
   "source": [
    "query = \"\"\"\n",
    "CREATE TABLE IF NOT EXISTS stock_data.securities (\n",
    "    market text NOT NULL,\n",
    "    symbol text,\n",
    "    name text,\n",
    "    en_name text,\n",
    "    PRIMARY KEY (symbol)\n",
    "    );\n",
    "\"\"\"\n",
    "\n",
    "cur.execute(query)\n",
    "conn.commit() # Commit the changes"
   ]
  },
  {
   "cell_type": "code",
   "execution_count": null,
   "id": "c0d4eb00",
   "metadata": {
    "vscode": {
     "languageId": "sql"
    }
   },
   "outputs": [],
   "source": [
    "query = \"\"\"\n",
    "CREATE TABLE IF NOT EXISTS stock_data.securities_details (\n",
    "    isin text,\n",
    "    symbol text PRIMARY KEY,\n",
    "    symbol_name text,\n",
    "    symbol_eng_name text,\n",
    "    sec_type text,\n",
    "    market_id text,\n",
    "    exchange text,\n",
    "    issuer text,\n",
    "    lot_size integer,\n",
    "    issue_date date,\n",
    "    maturity_date date,\n",
    "    first_trading_date date,\n",
    "    last_trading_date date,\n",
    "    contract_multiplier numeric,\n",
    "    settl_method text,\n",
    "    underlying text,\n",
    "    put_or_call text,\n",
    "    exercise_price numeric,\n",
    "    exercise_style text,\n",
    "    excercise_ratio numeric,\n",
    "    liste_share numeric,\n",
    "    tick_price1 numeric,\n",
    "    tick_increment1 numeric,\n",
    "    tick_price2 numeric,\n",
    "    tick_increment2 numeric,\n",
    "    tick_price3 numeric,\n",
    "    tick_increment3 numeric,\n",
    "    tick_price4 numeric,\n",
    "    tick_increment4 numeric\n",
    ");\n",
    "\"\"\"\n",
    "\n",
    "cur.execute(query)\n",
    "conn.commit()  # Commit the changes"
   ]
  },
  {
   "cell_type": "code",
   "execution_count": null,
   "id": "4e3f82f4",
   "metadata": {},
   "outputs": [],
   "source": [
    "cur.execute(\"\"\"\n",
    "SELECT EXISTS (\n",
    "    SELECT 1\n",
    "    FROM information_schema.tables\n",
    "    WHERE table_schema = 'stock_data'\n",
    "    AND table_name = 'securities'\n",
    ");\n",
    "\"\"\")\n",
    "table_exists = cur.fetchone()[0]\n",
    "print(\"Table created successfully:\", table_exists)"
   ]
  },
  {
   "cell_type": "code",
   "execution_count": null,
   "id": "c2392ae3",
   "metadata": {},
   "outputs": [],
   "source": [
    "\n",
    "# Fetch all results\n",
    "# and convert to pandas DataFrame\n",
    "# data = cur.fetchall()\n",
    "# df = pd.DataFrame(data, columns=[row[0] for row in cur.description])\n"
   ]
  },
  {
   "cell_type": "code",
   "execution_count": null,
   "id": "ac11d24c",
   "metadata": {},
   "outputs": [],
   "source": [
    "print(\"Done\")"
   ]
  },
  {
   "cell_type": "code",
   "execution_count": null,
   "id": "0f0e3e1b",
   "metadata": {},
   "outputs": [],
   "source": []
  }
 ],
 "metadata": {
  "kernelspec": {
   "display_name": "lequan_env",
   "language": "python",
   "name": "python3"
  },
  "language_info": {
   "codemirror_mode": {
    "name": "ipython",
    "version": 3
   },
   "file_extension": ".py",
   "mimetype": "text/x-python",
   "name": "python",
   "nbconvert_exporter": "python",
   "pygments_lexer": "ipython3",
   "version": "3.12.9"
  }
 },
 "nbformat": 4,
 "nbformat_minor": 5
}
