{
 "cells": [
  {
   "cell_type": "code",
   "execution_count": 13,
   "id": "a3021330",
   "metadata": {},
   "outputs": [],
   "source": [
    "import psycopg2\n",
    "import pandas as pd\n",
    "from sqlalchemy import create_engine\n"
   ]
  },
  {
   "cell_type": "code",
   "execution_count": 14,
   "id": "8f68cd56",
   "metadata": {},
   "outputs": [],
   "source": [
    "# Connect to database\n",
    "conn = psycopg2.connect(\n",
    "    dbname=\"postgres\",\n",
    "    user=\"postgres\",\n",
    "    password=\"postgres\",\n",
    "    host=\"localhost\",\n",
    "    port=\"5432\"  # default 5432\n",
    ")\n",
    "\n",
    "# Add cursor\n",
    "cur = conn.cursor()"
   ]
  },
  {
   "cell_type": "code",
   "execution_count": 15,
   "id": "02476a89",
   "metadata": {},
   "outputs": [
    {
     "name": "stdout",
     "output_type": "stream",
     "text": [
      "Connection successful: True\n"
     ]
    }
   ],
   "source": [
    "# Check connection\n",
    "cur.execute(\"SELECT 1;\")\n",
    "print(\"Connection successful:\", cur.fetchone()[0] == 1)"
   ]
  },
  {
   "cell_type": "markdown",
   "id": "68d18798",
   "metadata": {},
   "source": [
    "create table"
   ]
  },
  {
   "cell_type": "code",
   "execution_count": 22,
   "id": "0c6eaaa8",
   "metadata": {},
   "outputs": [],
   "source": [
    "query = \"\"\"\n",
    "CREATE TABLE IF NOT EXISTS stock_data.securities (\n",
    "    market text NOT NULL,\n",
    "    symbol text,\n",
    "    name text,\n",
    "    en_name text,\n",
    "    PRIMARY KEY (symbol)\n",
    "    );\n",
    "\"\"\"\n",
    "\n",
    "cur.execute(query)\n",
    "conn.commit() # Commit the changes"
   ]
  },
  {
   "cell_type": "code",
   "execution_count": 23,
   "id": "4e3f82f4",
   "metadata": {},
   "outputs": [
    {
     "name": "stdout",
     "output_type": "stream",
     "text": [
      "Table created successfully: True\n"
     ]
    }
   ],
   "source": [
    "cur.execute(\"\"\"\n",
    "SELECT EXISTS (\n",
    "    SELECT 1\n",
    "    FROM information_schema.tables\n",
    "    WHERE table_schema = 'stock_data'\n",
    "    AND table_name = 'securities'\n",
    ");\n",
    "\"\"\")\n",
    "table_exists = cur.fetchone()[0]\n",
    "print(\"Table created successfully:\", table_exists)"
   ]
  },
  {
   "cell_type": "markdown",
   "id": "5b0ded44",
   "metadata": {},
   "source": [
    "insert data"
   ]
  },
  {
   "cell_type": "code",
   "execution_count": 18,
   "id": "c2392ae3",
   "metadata": {},
   "outputs": [],
   "source": [
    "\n",
    "# Fetch all results\n",
    "# and convert to pandas DataFrame\n",
    "# data = cur.fetchall()\n",
    "# df = pd.DataFrame(data, columns=[row[0] for row in cur.description])\n"
   ]
  },
  {
   "cell_type": "code",
   "execution_count": 19,
   "id": "abd988dd",
   "metadata": {},
   "outputs": [],
   "source": [
    "# display(df.head(20))"
   ]
  },
  {
   "cell_type": "code",
   "execution_count": 20,
   "id": "ac11d24c",
   "metadata": {},
   "outputs": [
    {
     "name": "stdout",
     "output_type": "stream",
     "text": [
      "Done\n"
     ]
    }
   ],
   "source": [
    "print(\"Done\")"
   ]
  },
  {
   "cell_type": "code",
   "execution_count": null,
   "id": "0f0e3e1b",
   "metadata": {},
   "outputs": [],
   "source": []
  }
 ],
 "metadata": {
  "kernelspec": {
   "display_name": "lequan_env",
   "language": "python",
   "name": "python3"
  },
  "language_info": {
   "codemirror_mode": {
    "name": "ipython",
    "version": 3
   },
   "file_extension": ".py",
   "mimetype": "text/x-python",
   "name": "python",
   "nbconvert_exporter": "python",
   "pygments_lexer": "ipython3",
   "version": "3.12.9"
  }
 },
 "nbformat": 4,
 "nbformat_minor": 5
}
