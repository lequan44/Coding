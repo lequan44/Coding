{
 "cells": [
  {
   "cell_type": "code",
   "execution_count": null,
   "id": "a3021330",
   "metadata": {},
   "outputs": [],
   "source": [
    "import psycopg2\n",
    "import pandas as pd\n",
    "from sqlalchemy import create_engine\n"
   ]
  },
  {
   "cell_type": "code",
   "execution_count": null,
   "id": "8f68cd56",
   "metadata": {},
   "outputs": [],
   "source": [
    "# Connect to database\n",
    "conn = psycopg2.connect(\n",
    "    dbname=\"postgres\",\n",
    "    user=\"postgres\",\n",
    "    password=\"postgres\",\n",
    "    host=\"localhost\",\n",
    "    port=\"5432\"  # default 5432\n",
    ")\n",
    "\n",
    "# Add cursor\n",
    "cur = conn.cursor()"
   ]
  },
  {
   "cell_type": "code",
   "execution_count": null,
   "id": "0c6eaaa8",
   "metadata": {},
   "outputs": [],
   "source": [
    "query = \"\"\"\n",
    "CREATE TABLE IF NOT EXISTS stock_data.securities (\n",
    "    market text NOT NULL,\n",
    "    symbol text,\n",
    "    name text,\n",
    "    en_name text,\n",
    "    PRIMARY KEY (market)\n",
    "    );\n",
    "\"\"\" \n",
    "\n",
    "cur.execute(query)"
   ]
  },
  {
   "cell_type": "code",
   "execution_count": null,
   "id": "c2392ae3",
   "metadata": {},
   "outputs": [],
   "source": [
    "\n",
    "# Fetch all results\n",
    "# and convert to pandas DataFrame\n",
    "# data = cur.fetchall()\n",
    "# df = pd.DataFrame(data, columns=[row[0] for row in cur.description])\n"
   ]
  },
  {
   "cell_type": "code",
   "execution_count": null,
   "id": "abd988dd",
   "metadata": {},
   "outputs": [],
   "source": [
    "# display(df.head(20))"
   ]
  },
  {
   "cell_type": "code",
   "execution_count": null,
   "id": "ac11d24c",
   "metadata": {},
   "outputs": [],
   "source": [
    "print(\"Done\")"
   ]
  },
  {
   "cell_type": "code",
   "execution_count": null,
   "id": "0f0e3e1b",
   "metadata": {},
   "outputs": [],
   "source": []
  }
 ],
 "metadata": {
  "kernelspec": {
   "display_name": "Python 3",
   "language": "python",
   "name": "python3"
  },
  "language_info": {
   "codemirror_mode": {
    "name": "ipython",
    "version": 3
   },
   "file_extension": ".py",
   "mimetype": "text/x-python",
   "name": "python",
   "nbconvert_exporter": "python",
   "pygments_lexer": "ipython3",
   "version": "3.12.4"
  }
 },
 "nbformat": 4,
 "nbformat_minor": 5
}
